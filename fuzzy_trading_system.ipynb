{
 "cells": [
  {
   "cell_type": "code",
   "execution_count": null,
   "id": "install-requirements",
   "metadata": {},
   "outputs": [],
   "source": [
    "!git clone https://github.com/Gianni16/fuzzy-trading-system.git\n",
    "import os\n",
    "os.chdir('fuzzy-trading-system')\n",
    "!pip install matplotlib numpy pandas pandas_ta==0.3.14b0 scikit-fuzzy pygad\n",
    "!pip install numpy==1.23.5"
   ]
  },
  {
   "cell_type": "code",
   "execution_count": null,
   "id": "38a1565b",
   "metadata": {
    "lines_to_next_cell": 1
   },
   "outputs": [],
   "source": [
    "import os\n",
    "import matplotlib.pyplot as plt\n",
    "import numpy as np\n",
    "import pandas as pd\n",
    "import pandas_ta as ta\n",
    "import skfuzzy as fuzz\n",
    "from fuzzy_expert.rule import FuzzyRule\n",
    "from fuzzy_expert.variable import FuzzyVariable\n",
    "from fuzzy_expert.inference import DecompositionalInference\n",
    "from pygad import GA\n",
    "import time"
   ]
  },
  {
   "cell_type": "markdown",
   "id": "2c6a1f23",
   "metadata": {},
   "source": [
    "################################## Functions ###############################################"
   ]
  },
  {
   "cell_type": "markdown",
   "id": "58198dce",
   "metadata": {},
   "source": [
    "def read_series(name:str):\n",
    "    folder = os.getcwd()\n",
    "    return pd.read_csv(os.path.join(folder, f'{name}_weekly.csv'))"
   ]
  },
  {
   "cell_type": "code",
   "execution_count": null,
   "id": "bb3fe6ac",
   "metadata": {
    "lines_to_next_cell": 1
   },
   "outputs": [],
   "source": [
    "def read_series(name:str):\n",
    "    folder = os.path.join(os.getcwd(), 'data')\n",
    "    filepath = os.path.join(folder, f'{name}_weekly.csv')\n",
    "    return pd.read_csv(filepath)"
   ]
  },
  {
   "cell_type": "code",
   "execution_count": null,
   "id": "82adb3cc",
   "metadata": {
    "lines_to_next_cell": 1
   },
   "outputs": [],
   "source": [
    "def technical_append(time_series,indicator:list[str]):\n",
    "    time_series = time_series.copy()\n",
    "    if 'STO' in indicator:\n",
    "        STO_k = 14\n",
    "        STO_d = 3\n",
    "        time_series = pd.concat([time_series,time_series.ta.stoch(high='High', low='Low', k=STO_k, d=STO_d)],axis = 1)\n",
    "        del time_series[f'STOCHd_{STO_k}_{STO_d}_{STO_d}']\n",
    "        time_series = time_series.rename(columns={f'STOCHk_{STO_k}_{STO_d}_{STO_d}':'STO'})    \n",
    "    time_series = time_series[['Date','Close','STO']]\n",
    "    if 'RSI' in indicator:\n",
    "        rsi_length = 14\n",
    "        time_series = pd.concat([time_series,time_series.ta.rsi(close='Close', length=rsi_length)],axis = 1)\n",
    "        time_series = time_series.rename(columns={f'RSI_{rsi_length}':'RSI'})\n",
    "    if 'MACD' in indicator:\n",
    "        MACD_fast = 12\n",
    "        MACD_slow = 26\n",
    "        MACD_signal = 9\n",
    "        time_series = pd.concat([time_series,time_series.ta.macd(close='Close', fast=MACD_fast, slow=MACD_slow, signal=MACD_signal)],axis = 1)\n",
    "        del time_series[f'MACDs_{MACD_fast}_{MACD_slow}_{MACD_signal}']\n",
    "        del time_series[f'MACD_{MACD_fast}_{MACD_slow}_{MACD_signal}']\n",
    "        time_series = time_series.rename(columns={f'MACDh_{MACD_fast}_{MACD_slow}_{MACD_signal}':'MACD'})\n",
    "\n",
    "    return time_series.dropna().reset_index(drop=True)"
   ]
  },
  {
   "cell_type": "code",
   "execution_count": null,
   "id": "9ca99736",
   "metadata": {},
   "outputs": [],
   "source": [
    "def train_test_split(indicator_matrix: pd.DataFrame,train_split,index):\n",
    "    if index == 'train':\n",
    "        train = indicator_matrix[:int(len(indicator_matrix)*train_split)]\n",
    "        return train\n",
    "    elif index == 'test':\n",
    "        test = indicator_matrix[int(len(indicator_matrix)*train_split):]\n",
    "        return test"
   ]
  },
  {
   "cell_type": "code",
   "execution_count": null,
   "id": "802cad05",
   "metadata": {
    "lines_to_next_cell": 1
   },
   "outputs": [],
   "source": [
    "def fuzzy_variables(list_param:list):\n",
    "    parameters = list_param\n",
    "    variables = {\n",
    "    \"RSI\": FuzzyVariable(\n",
    "        universe_range=(RSI_range[0], RSI_range[1]),\n",
    "        terms={\n",
    "            \"Low\": [(i,fuzz.gaussmf(i,parameters[0],parameters[1])) for i in np.arange(RSI_range[0],RSI_range[1])],\n",
    "            \"Med\": [(i,fuzz.gaussmf(i,parameters[2],parameters[3])) for i in np.arange(RSI_range[0],RSI_range[1])],\n",
    "            \"High\": [(i,fuzz.gaussmf(i,parameters[4],parameters[5])) for i in np.arange(RSI_range[0],RSI_range[1])],\n",
    "        },\n",
    "    ),\n",
    "    \"MACD\": FuzzyVariable(\n",
    "        universe_range=(MACD_range[0], MACD_range[1]),\n",
    "        terms={\n",
    "            \"Low\": [(i,fuzz.gaussmf(i,parameters[6],parameters[7])) for i in np.arange(MACD_range[0],MACD_range[1])],\n",
    "            \"Med\": [(i,fuzz.gaussmf(i,parameters[8],parameters[9])) for i in np.arange(MACD_range[0],MACD_range[1])],\n",
    "            \"High\": [(i,fuzz.gaussmf(i,parameters[10],parameters[11])) for i in np.arange(MACD_range[0],MACD_range[1])],\n",
    "        },\n",
    "    ),\n",
    "    \"STO\": FuzzyVariable(\n",
    "        universe_range=(STO_range[0], STO_range[1]),\n",
    "        terms={\n",
    "            \"Low\": [(i,fuzz.gaussmf(i,parameters[12],parameters[13])) for i in np.arange(STO_range[0],STO_range[1])],\n",
    "            \"Med\": [(i,fuzz.gaussmf(i,parameters[14],parameters[15])) for i in np.arange(STO_range[0],STO_range[1])],\n",
    "            \"High\": [(i,fuzz.gaussmf(i,parameters[16],parameters[17])) for i in np.arange(STO_range[0],STO_range[1])],\n",
    "        },\n",
    "    ),\n",
    "    \"Decision\": FuzzyVariable(\n",
    "        universe_range=(Decision_range[0], Decision_range[1]),\n",
    "        terms={\n",
    "            \"Sell\": [(element,fuzz.trapmf(np.arange(Decision_range[0], Decision_range[1]), Decision_Sell)[i]) for i,element in enumerate(np.arange(Decision_range[0], Decision_range[1]))],\n",
    "            \"Buy\": [(element,fuzz.trapmf(np.arange(Decision_range[0], Decision_range[1]), Decision_Buy)[i]) for i,element in enumerate(np.arange(Decision_range[0], Decision_range[1]))],\n",
    " \n",
    "         },\n",
    "    )}\n",
    "\n",
    "    return variables"
   ]
  },
  {
   "cell_type": "code",
   "execution_count": null,
   "id": "661126c6",
   "metadata": {},
   "outputs": [],
   "source": [
    "def Defuzzification(frame: pd.DataFrame ,fuzzy_parameters:list):\n",
    "    frame['Defuzzification'] = frame.apply(lambda x: model(\n",
    "    variables=fuzzy_variables(fuzzy_parameters),\n",
    "    rules=rules,\n",
    "    MACD = x['MACD'], \n",
    "    RSI=x['RSI'],\n",
    "    STO=x['STO'])[0]['Decision'], axis=1)\n",
    "    return frame"
   ]
  },
  {
   "cell_type": "code",
   "execution_count": null,
   "id": "eb9be0bf",
   "metadata": {
    "lines_to_next_cell": 1
   },
   "outputs": [],
   "source": [
    "def total_gain(data_frame: pd.DataFrame, treshold: float):\n",
    "    data_frame = data_frame.copy()\n",
    "    data_frame[\"Direction\"] = 0\n",
    "    data_frame[\"Direction\"] = np.select(\n",
    "        condlist=[\n",
    "            data_frame[\"Defuzzification\"] < treshold,\n",
    "            data_frame[\"Defuzzification\"] >= treshold\n",
    "        ], choicelist=[-1, 1], default=0\n",
    "    )\n",
    "    data_frame['Direction'] = data_frame['Direction'].replace(to_replace=0, method='ffill')\n",
    "    data_frame['Enter_price'] = data_frame.loc[data_frame['Direction']!=data_frame['Direction'].shift(1), 'Close']\n",
    "    data_frame['Enter_price'] = data_frame['Enter_price'].fillna(method=\"ffill\")\n",
    "    data_frame.dropna(inplace=True)\n",
    "    data_frame['Long'] = np.select(\n",
    "        condlist=[\n",
    "            (data_frame['Direction'] > 0) & (data_frame['Direction'].shift(1) != 0) & \\\n",
    "                            (data_frame['Direction'].shift(1) != np.nan) & \\\n",
    "                          (data_frame['Direction'].shift(-1) < 0)\n",
    "        ], choicelist=[\n",
    "            ((data_frame[\"Enter_price\"].shift(-1) - data_frame[\"Enter_price\"])/data_frame[\"Enter_price\"])*100,\n",
    "        ]\n",
    "    )\n",
    "    data_frame['Short'] = np.select(\n",
    "        condlist=[\n",
    "            (data_frame['Direction'] < 0) & (data_frame['Direction'].shift(1) != 0) & \\\n",
    "                            (data_frame['Direction'].shift(1) != np.nan) & \\\n",
    "                          (data_frame['Direction'].shift(-1) > 0)\n",
    "        ], choicelist=[\n",
    "            ((data_frame[\"Enter_price\"] - data_frame[\"Enter_price\"].shift(-1))/data_frame[\"Enter_price\"])*100\n",
    "        ]\n",
    "    )\n",
    "    data_frame['Equity_long'] = data_frame['Long'].cumsum()\n",
    "    data_frame['Equity_short'] = data_frame['Short'].cumsum()\n",
    "    data_frame['Gain'] = data_frame['Equity_long']+data_frame['Equity_short']\n",
    "    return data_frame"
   ]
  },
  {
   "cell_type": "markdown",
   "id": "b085fad1",
   "metadata": {},
   "source": [
    "############################################# Fuzzy Rules ######################################"
   ]
  },
  {
   "cell_type": "code",
   "execution_count": null,
   "id": "0e3f36c3",
   "metadata": {},
   "outputs": [],
   "source": [
    "rules = [\n",
    "    FuzzyRule(\n",
    "        premise=[\n",
    "            (\"MACD\", \"High\"),\n",
    "            (\"AND\",\"RSI\", \"Low\"),\n",
    "            (\"AND\",\"STO\", \"Low\"),\n",
    "\n",
    "        ],\n",
    "        consequence=[(\"Decision\", \"Buy\")],\n",
    "    ),\n",
    "    FuzzyRule(\n",
    "        premise=[\n",
    "            (\"MACD\", \"Low\"),\n",
    "            (\"AND\",\"RSI\", \"High\"),\n",
    "            (\"AND\",\"STO\", \"High\"),\n",
    "\n",
    "        ],\n",
    "        consequence=[(\"Decision\", \"Buy\")],\n",
    "    ),\n",
    "    FuzzyRule(\n",
    "        premise=[\n",
    "            (\"MACD\", \"High\"),\n",
    "            (\"AND\",\"RSI\", \"Med\"),\n",
    "            (\"AND\",\"STO\", \"Med\"),\n",
    "            \n",
    "        ],\n",
    "        consequence=[(\"Decision\", \"Buy\")],\n",
    "    ),\n",
    "    FuzzyRule(\n",
    "        premise=[\n",
    "            (\"MACD\", \"Low\"),\n",
    "            (\"AND\",\"RSI\", \"Med\"),\n",
    "            (\"AND\",\"STO\", \"High\"),\n",
    "        ],\n",
    "        consequence=[(\"Decision\", \"Sell\")],\n",
    "    ),\n",
    "    FuzzyRule(\n",
    "        premise=[\n",
    "            (\"RSI\", \"High\"),\n",
    "            (\"AND\",\"STO\", \"Low\"),\n",
    "        ],\n",
    "        consequence=[(\"Decision\", \"Sell\")],\n",
    "    ),\n",
    "    FuzzyRule(\n",
    "        premise=[\n",
    "            (\"MACD\", \"Low\"),\n",
    "            (\"AND\",\"RSI\", \"High\"),\n",
    "            (\"AND\",\"STO\", \"High\"),\n",
    "        ],\n",
    "        consequence=[(\"Decision\", \"Sell\")])]"
   ]
  },
  {
   "cell_type": "code",
   "execution_count": null,
   "id": "d1aa25ae",
   "metadata": {},
   "outputs": [],
   "source": [
    "model = DecompositionalInference(\n",
    "    and_operator=\"min\",\n",
    "    or_operator=\"max\",\n",
    "    implication_operator = 'Rc',\n",
    "    composition_operator=\"max-min\",\n",
    "    production_link=\"max\",\n",
    "    defuzzification_operator=\"cog\",\n",
    ")"
   ]
  },
  {
   "cell_type": "markdown",
   "id": "26a21aeb",
   "metadata": {},
   "source": [
    "############################################ Variable Definition ##########################################"
   ]
  },
  {
   "cell_type": "code",
   "execution_count": null,
   "id": "746a5040",
   "metadata": {},
   "outputs": [],
   "source": [
    "list_series = ['Nasdaq','Djow','Ftsemib','Sp500','Vix']\n",
    "index = 0\n",
    "list_indicators = ['RSI','MACD','STO']\n",
    "mode = 'train'\n",
    "split_percentage = 0.8\n",
    "technical_indicators = technical_append(read_series(list_series[index]),list_indicators)\n",
    "train = train_test_split(technical_indicators,split_percentage,mode)"
   ]
  },
  {
   "cell_type": "code",
   "execution_count": null,
   "id": "e39eade9",
   "metadata": {},
   "outputs": [],
   "source": [
    "variation_coeff = 0.2"
   ]
  },
  {
   "cell_type": "code",
   "execution_count": null,
   "id": "308704e2",
   "metadata": {},
   "outputs": [],
   "source": [
    "#Decision\n",
    "Decision_range = [-10, 10]"
   ]
  },
  {
   "cell_type": "code",
   "execution_count": null,
   "id": "320840db",
   "metadata": {
    "lines_to_next_cell": 2
   },
   "outputs": [],
   "source": [
    "Decision_Sell = [-10,-10,-3,3]\n",
    "Decision_Buy = [-3,3,10,10]"
   ]
  },
  {
   "cell_type": "code",
   "execution_count": null,
   "id": "27439a71",
   "metadata": {},
   "outputs": [],
   "source": [
    "#RSI\n",
    "RSI_range = [0,100]"
   ]
  },
  {
   "cell_type": "code",
   "execution_count": null,
   "id": "18f77f94",
   "metadata": {},
   "outputs": [],
   "source": [
    "RSI_Low = [RSI_range[0],variation_coeff*(RSI_range[1]-RSI_range[0])]\n",
    "RSI_Med = [0.5*(RSI_range[0]+RSI_range[1]),variation_coeff*(RSI_range[1]-RSI_range[0])]\n",
    "RSI_High = [RSI_range[1],variation_coeff*(RSI_range[1]-RSI_range[0])]"
   ]
  },
  {
   "cell_type": "code",
   "execution_count": null,
   "id": "a59f737f",
   "metadata": {},
   "outputs": [],
   "source": [
    "#MACD\n",
    "MACD_range = [int(train['MACD'].min()), int(train['MACD'].max())]"
   ]
  },
  {
   "cell_type": "code",
   "execution_count": null,
   "id": "1a56461d",
   "metadata": {},
   "outputs": [],
   "source": [
    "MACD_Low = [MACD_range[0],variation_coeff*(MACD_range[1]-MACD_range[0])]\n",
    "MACD_Med = [0.5*(MACD_range[0]+MACD_range[1]),variation_coeff*(MACD_range[1]-MACD_range[0])]\n",
    "MACD_High = [MACD_range[1],variation_coeff*(MACD_range[1]-MACD_range[0])]"
   ]
  },
  {
   "cell_type": "code",
   "execution_count": null,
   "id": "5b1e244f",
   "metadata": {},
   "outputs": [],
   "source": [
    "#STO\n",
    "STO_range = [0,100]"
   ]
  },
  {
   "cell_type": "code",
   "execution_count": null,
   "id": "6a5e49b4",
   "metadata": {},
   "outputs": [],
   "source": [
    "STO_Low = [STO_range[0],variation_coeff*(STO_range[1]-STO_range[0])]\n",
    "STO_Med = [0.5*(STO_range[0]+STO_range[1]),variation_coeff*(STO_range[1]-STO_range[0])]\n",
    "STO_High = [STO_range[1],variation_coeff*(STO_range[1]-STO_range[0])]"
   ]
  },
  {
   "cell_type": "code",
   "execution_count": null,
   "id": "3a45d9c3",
   "metadata": {},
   "outputs": [],
   "source": [
    "#treshold\n",
    "treshold = 0"
   ]
  },
  {
   "cell_type": "code",
   "execution_count": null,
   "id": "4265e7bf",
   "metadata": {},
   "outputs": [],
   "source": [
    "#parameters\n",
    "num_generations = 2\n",
    "sol_per_pop = 1"
   ]
  },
  {
   "cell_type": "code",
   "execution_count": null,
   "id": "8ffa98de",
   "metadata": {
    "lines_to_next_cell": 1
   },
   "outputs": [],
   "source": [
    "initial_solution = [[RSI_Low[0],RSI_Low[1],RSI_Med[0],RSI_Med[1],RSI_High[0],RSI_High[1],\n",
    "                    MACD_Low[0],MACD_Low [1],MACD_Med[0],MACD_Med[1],MACD_High[0],MACD_High[1],\n",
    "                    STO_Low[0],STO_Low[1],STO_Med[0],STO_Med[1],STO_High[0],STO_High[1],\n",
    "                    treshold], [RSI_Low[0],RSI_Low[1],RSI_Med[0],RSI_Med[1],RSI_High[0],RSI_High[1],\n",
    "                    MACD_Low[0],MACD_Low [1],MACD_Med[0],MACD_Med[1],MACD_High[0],MACD_High[1],\n",
    "                    STO_Low[0],STO_Low[1],STO_Med[0],STO_Med[1],STO_High[0],STO_High[1],\n",
    "                    treshold]]\n",
    "num_genes = len(initial_solution[0])\n",
    "num_parents_mating = 2"
   ]
  },
  {
   "cell_type": "markdown",
   "id": "f697527e",
   "metadata": {},
   "source": [
    "############################################ Model Optimization ####################################"
   ]
  },
  {
   "cell_type": "code",
   "execution_count": null,
   "id": "59a20334",
   "metadata": {},
   "outputs": [],
   "source": [
    "def fitness_func(ga_instance, list_param, solution_idx):\n",
    "\n",
    "    train_frame = Defuzzification(train,list_param)\n",
    "    \n",
    "    return total_gain(train_frame, list_param[-1])['Gain'][len(train_frame)-1]"
   ]
  },
  {
   "cell_type": "code",
   "execution_count": null,
   "id": "6e11ea7c",
   "metadata": {},
   "outputs": [],
   "source": [
    "start_time = time.time()\n",
    "print('Start train')"
   ]
  },
  {
   "cell_type": "code",
   "execution_count": null,
   "id": "229b6ae4",
   "metadata": {},
   "outputs": [],
   "source": [
    "ga = GA(\n",
    "        num_generations=num_generations,\n",
    "        initial_population = initial_solution,\n",
    "        num_parents_mating=num_parents_mating,\n",
    "        fitness_func=fitness_func)"
   ]
  },
  {
   "cell_type": "code",
   "execution_count": null,
   "id": "48f5a472",
   "metadata": {},
   "outputs": [],
   "source": [
    "ga.run()\n",
    "end_time = time.time()\n",
    "print(f'End_train in {end_time-start_time} seconds')\n",
    "solution, solution_fitness, solution_idx = ga.best_solution()"
   ]
  },
  {
   "cell_type": "code",
   "execution_count": null,
   "id": "6fad111a",
   "metadata": {},
   "outputs": [],
   "source": [
    "mode = 'test'\n",
    "test_frame = train_test_split(technical_indicators,split_percentage,mode)\n",
    "test = Defuzzification(test_frame,solution)\n",
    "Final_frame = total_gain(pd.concat([train,test]),solution[-1]) "
   ]
  },
  {
   "cell_type": "markdown",
   "id": "f3b5c4ce",
   "metadata": {},
   "source": [
    "############################################ Model Output ####################################"
   ]
  },
  {
   "cell_type": "code",
   "execution_count": null,
   "id": "178e0efe",
   "metadata": {},
   "outputs": [],
   "source": [
    "fig = plt.figure(figsize=(15,10))\n",
    "ax = fig.add_subplot(111)\n",
    "ax.set_title(f'LUISS Algorithm_Fuzzy_{list_series[index]}',fontweight ='bold',fontsize=20)\n",
    "ax.set_ylabel('Gain', fontweight = 'bold', fontsize=20)\n",
    "ax.set_xlabel('Time', fontweight = 'bold', fontsize=20)\n",
    "time_col = pd.to_datetime(Final_frame['Date'])\n",
    "norm_factor = Final_frame['Gain'][len(Final_frame)-1]/Final_frame['Close'].max()"
   ]
  },
  {
   "cell_type": "code",
   "execution_count": null,
   "id": "e6803779",
   "metadata": {},
   "outputs": [],
   "source": [
    "plt.plot(time_col, Final_frame['Gain'], alpha=0.2, color='black',linewidth=5, label = 'General Equity')\n",
    "plt.plot(time_col, Final_frame['Close']*norm_factor, alpha=0.2, color='orange',linewidth=5, label = \"Close\")\n",
    "plt.plot(time_col, Final_frame['Gain'].cummax(), alpha=0.2, color='red',linewidth=3, label = 'Maximum Equity')\n",
    "plt.plot(time_col, Final_frame['Equity_long'], alpha=0.2, color='green',linewidth=3, label = 'Long Equity')\n",
    "plt.plot(time_col, Final_frame['Equity_short'], alpha=0.2, color='red',linewidth=3, label = 'Short Equity')"
   ]
  },
  {
   "cell_type": "code",
   "execution_count": null,
   "id": "3f88ee8b",
   "metadata": {},
   "outputs": [],
   "source": [
    "plt.axvline(x=pd.to_datetime(train['Date'])[len(train)-1], color='red', linestyle='--', label='Train')"
   ]
  },
  {
   "cell_type": "code",
   "execution_count": null,
   "id": "3dae1ede",
   "metadata": {},
   "outputs": [],
   "source": [
    "ax.legend()"
   ]
  },
  {
   "cell_type": "markdown",
   "id": "461adea9",
   "metadata": {},
   "source": [
    "plt.savefig(f'{list_series[index]}.png', dpi=150)\n",
    "plt.close(fig)\n",
    "Final_frame.to_csv(f'{list_series[index]}.csv')"
   ]
  },
  {
   "cell_type": "code",
   "execution_count": null,
   "id": "89519ad9",
   "metadata": {},
   "outputs": [],
   "source": [
    "output_folder = os.path.join(os.getcwd(), 'outputs')\n",
    "os.makedirs(output_folder, exist_ok=True)"
   ]
  },
  {
   "cell_type": "code",
   "execution_count": null,
   "id": "ebb44785",
   "metadata": {},
   "outputs": [],
   "source": [
    "plt.savefig(os.path.join(output_folder, f'{list_series[index]}.png'), dpi=150)\n",
    "plt.close(fig)\n",
    "Final_frame.to_csv(os.path.join(output_folder, f'{list_series[index]}.csv'))"
   ]
  }
 ],
 "metadata": {
  "jupytext": {
   "cell_metadata_filter": "-all",
   "main_language": "python",
   "notebook_metadata_filter": "-all"
  }
 },
 "nbformat": 4,
 "nbformat_minor": 5
}
